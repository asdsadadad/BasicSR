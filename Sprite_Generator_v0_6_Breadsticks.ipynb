{
  "nbformat": 4,
  "nbformat_minor": 0,
  "metadata": {
    "colab": {
      "name": "Sprite_Generator_v0_6_Breadsticks.ipynb",
      "provenance": [],
      "collapsed_sections": [
        "sEX3N-Qwhsjb",
        "6jEMkq_2hE6f",
        "Hd6_zISfh0HK",
        "WS1xG2mvh5jh",
        "87EmMx5Kh9P7",
        "HZ9KdWKxjhDs",
        "aU9A9IVjiE0a"
      ],
      "include_colab_link": true
    },
    "kernelspec": {
      "name": "python3",
      "display_name": "Python 3"
    },
    "language_info": {
      "name": "python"
    },
    "accelerator": "GPU"
  },
  "cells": [
    {
      "cell_type": "markdown",
      "metadata": {
        "id": "view-in-github",
        "colab_type": "text"
      },
      "source": [
        "<a href=\"https://colab.research.google.com/github/asdsadadad/BasicSR/blob/master/Sprite_Generator_v0_6_Breadsticks.ipynb\" target=\"_parent\"><img src=\"https://colab.research.google.com/assets/colab-badge.svg\" alt=\"Open In Colab\"/></a>"
      ]
    },
    {
      "cell_type": "code",
      "metadata": {
        "id": "v7K8s5Ddlzpy"
      },
      "source": [
        "!nvidia-smi"
      ],
      "execution_count": null,
      "outputs": []
    },
    {
      "cell_type": "code",
      "metadata": {
        "id": "0r1KA3Ng7KZw"
      },
      "source": [
        "from google.colab import drive\n",
        "drive.mount('/content/gdrive')"
      ],
      "execution_count": null,
      "outputs": []
    },
    {
      "cell_type": "markdown",
      "metadata": {
        "id": "sEX3N-Qwhsjb"
      },
      "source": [
        "## Install and load requirements\n",
        "Green is required, red is only if training a new model. Don't run the entire thing without checking the cells inside."
      ]
    },
    {
      "cell_type": "markdown",
      "metadata": {
        "id": "6jEMkq_2hE6f"
      },
      "source": [
        "### <font color='#5f2'>Install an optimizer and a requirement for torchvision to save videos</font>"
      ]
    },
    {
      "cell_type": "code",
      "metadata": {
        "id": "mYzQ_NNalzTm"
      },
      "source": [
        "!pip -qq install torch_optimizer\n",
        "!pip -qq install av"
      ],
      "execution_count": null,
      "outputs": []
    },
    {
      "cell_type": "markdown",
      "metadata": {
        "id": "Hd6_zISfh0HK"
      },
      "source": [
        "### <font color='#5f2'>Imports</font>"
      ]
    },
    {
      "cell_type": "code",
      "metadata": {
        "id": "yJKhxLP5jTvs"
      },
      "source": [
        "import torch\n",
        "import torch.nn as nn\n",
        "import torch.nn.functional as F\n",
        "import torchvision\n",
        "import torchvision.transforms as T\n",
        "import torchvision.transforms.functional as TF\n",
        "import torch_optimizer as optim\n",
        "import PIL\n",
        "from PIL import Image\n",
        "import random\n",
        "import math\n",
        "import gc\n",
        "\n",
        "device = torch.device(\"cuda\" if torch.cuda.is_available() else \"cpu\")\n",
        "torch.set_grad_enabled(False)\n",
        "\n",
        "def clear_mem():\n",
        "    torch.cuda.empty_cache()\n",
        "    gc.collect()\n",
        "\n",
        "ToTensor = T.ToTensor()\n",
        "ToImage  = T.ToPILImage()\n",
        "\n",
        "def OpenImage(x, resize=None, convert=\"RGB\"):\n",
        "    if resize:\n",
        "        return ToTensor(Image.open(x).convert(convert).resize(resize)).unsqueeze(0).to(device)\n",
        "    else:\n",
        "        return ToTensor(Image.open(x).convert(convert)).unsqueeze(0).to(device)"
      ],
      "execution_count": null,
      "outputs": []
    },
    {
      "cell_type": "code",
      "metadata": {
        "id": "CUZggpLtluk6"
      },
      "source": [
        "def diff_abs(x, y=0.0001):\n",
        "    return torch.sqrt(x*x+y)\n",
        "\n",
        "def diff_relu(x, y=0.0001):\n",
        "    return (torch.sqrt(x*x+y)+x)*0.5\n",
        "\n",
        "def diff_clamp(x, y=0.0001):\n",
        "    return diff_relu(1-diff_relu(1-x, y), y)"
      ],
      "execution_count": null,
      "outputs": []
    },
    {
      "cell_type": "markdown",
      "metadata": {
        "id": "WS1xG2mvh5jh"
      },
      "source": [
        "### <font color='#f25'>[Ignore if not training new model]</font> Load data for training"
      ]
    },
    {
      "cell_type": "code",
      "metadata": {
        "id": "psbv9DFJOkYd"
      },
      "source": [
        "#!gdown --id 1in3e4os3xMsGvvmBzhYXoNn6fStIceFk\n",
        "!7z e /content/gdrive/MyDrive/pokemon_sprites_with_sw99_gray_final.7z -opokemon_sprites/all/\n",
        "!7z e /content/gdrive/MyDrive/pokemon_fansprites_unified.7z -opokemon_sprites/fan/\n",
        "# !mkdir pokemon_sprites_gray_alpha/all\n",
        "# !mv pokemon_sprites_gray_alpha/*.png pokemon_sprites_gray_alpha/all/"
      ],
      "execution_count": null,
      "outputs": []
    },
    {
      "cell_type": "code",
      "metadata": {
        "id": "HFowSljouwWr"
      },
      "source": [
        "pokemon_sprites = torch.load(\"/content/gdrive/MyDrive/pokemon_sprites_and_swdemo_fan_gray.pt\").mul(3).round().div(3).to(device)"
      ],
      "execution_count": null,
      "outputs": []
    },
    {
      "cell_type": "code",
      "metadata": {
        "id": "RqvS-z2DQCI8"
      },
      "source": [
        "import glob\n",
        "\n",
        "pokemon_sprites = []\n",
        "for img_path in sorted(glob.iglob(r'/content/pokemon_sprites/*/*.png')):\n",
        "  img_in = OpenImage(img_path, convert=\"L\")\n",
        "  pokemon_sprites.append(img_in)\n",
        "pokemon_sprites = torch.cat(pokemon_sprites, 0)\n",
        "print(pokemon_sprites.shape)\n",
        "torch.save(pokemon_sprites, 'pokemon_sprites_and_swdemo_fan_gray.pt')\n",
        "torch.save(pokemon_sprites, '/content/gdrive/MyDrive/pokemon_sprites_and_swdemo_fan_gray.pt')"
      ],
      "execution_count": null,
      "outputs": []
    },
    {
      "cell_type": "markdown",
      "metadata": {
        "id": "87EmMx5Kh9P7"
      },
      "source": [
        "### <font color='#5f2'>Define model</font>"
      ]
    },
    {
      "cell_type": "code",
      "metadata": {
        "id": "vtVlxIbGjq5F"
      },
      "source": [
        "# Save the model's state dict after training if you want\n",
        "# torch.save(model.state_dict(), \"/content/gdrive/MyDrive/sprite_generator_v06_7.pt\")"
      ],
      "execution_count": null,
      "outputs": []
    },
    {
      "cell_type": "code",
      "metadata": {
        "id": "TeFdEMBtN91e"
      },
      "source": [
        "class PixelNet(torch.nn.Module):\n",
        "    def __init__(self):\n",
        "        super(PixelNet, self).__init__()\n",
        "\n",
        "        self.enc_layers_0 = nn.Sequential(\n",
        "                              nn.Conv2d( 1,  8, 2, 2, 0),\n",
        "                              nn.Conv2d( 8, 16, 2, 2, 0),\n",
        "                              nn.Conv2d(16, 32, 2, 2, 0),\n",
        "                        )\n",
        "\n",
        "        self.batchnorm = nn.InstanceNorm2d(32)\n",
        "\n",
        "        self.lin_layers = nn.Sequential(\n",
        "                              nn.Conv2d(32, 64, 3, 1, 1),\n",
        "                              nn.BatchNorm2d(64),\n",
        "                              nn.GELU(),\n",
        "                              nn.Conv2d(64, 64, 3, 1, 1),\n",
        "                              nn.BatchNorm2d(64),\n",
        "                              nn.GELU(),\n",
        "                              nn.Conv2d(64, 32, 3, 1, 1),\n",
        "                              nn.BatchNorm2d(32),\n",
        "                          )\n",
        "\n",
        "        self.cnn_layers = nn.Sequential(\n",
        "                              nn.Conv2d(32, 32, 3, 1, 1),      \n",
        "                              nn.ConvTranspose2d(32, 16, 2, 2),\n",
        "                              nn.Conv2d(16, 32, 3, 1, 1),      \n",
        "                              nn.BatchNorm2d(32),              \n",
        "                              nn.GELU(),                       \n",
        "                              nn.ConvTranspose2d(32, 16, 2, 2),\n",
        "                              nn.Conv2d(16, 32, 3, 1, 1),      \n",
        "                              nn.BatchNorm2d(32),              \n",
        "                              nn.GELU(),                       \n",
        "                              nn.ConvTranspose2d(32, 16, 2, 2),\n",
        "                              nn.Conv2d(16, 4, 3, 1, 1),       \n",
        "                          )\n",
        "\n",
        "        self.palette = torch.tensor([[0.0, 0.333, 0.667, 1.0]]).T.to(device)\n",
        "\n",
        "    def encode(self, x):\n",
        "        x = self.enc_layers_0(x)\n",
        "        return x\n",
        "\n",
        "    def decode(self, x, y=25, batchnorm=True, dropout_p=0):\n",
        "        if dropout_p == 0:\n",
        "            dropout = nn.Identity()\n",
        "        else:\n",
        "            dropout = nn.AlphaDropout(dropout_p)\n",
        "        if batchnorm == True:\n",
        "            x = self.batchnorm(x)\n",
        "        # x = self.lin_layers(x)\n",
        "        # x = self.cnn_layers(x)\n",
        "        x = self.lin_layers[:3](x)\n",
        "        x = dropout(x)\n",
        "        x = self.lin_layers[3:6](x)\n",
        "        x = self.lin_layers[6:](x)\n",
        "        x = dropout(x)\n",
        "        x = self.cnn_layers[0](x)\n",
        "        x = dropout(x)\n",
        "        x = self.cnn_layers[1:](x)\n",
        "        x = (x.permute(0,2,3,1).mul(y).softmax(-1) @ self.palette).permute(0,3,1,2)\n",
        "        return x\n",
        "\n",
        "    def forward(self, x, y=25):\n",
        "        x = self.encode(x)\n",
        "        x = self.decode(x, y)\n",
        "        return x\n",
        "\n",
        "model = PixelNet().to(device)\n",
        "# model(torch.rand(8,1,56,56).to(device)).shape"
      ],
      "execution_count": null,
      "outputs": []
    },
    {
      "cell_type": "markdown",
      "metadata": {
        "id": "HZ9KdWKxjhDs"
      },
      "source": [
        "### <font color='#5f2'>Load the state dict of pretrained modelImports</font>\n",
        "Change the path to whatever it's saved to, if you have one."
      ]
    },
    {
      "cell_type": "code",
      "metadata": {
        "id": "ojgq6m7T_56p",
        "colab": {
          "base_uri": "https://localhost:8080/"
        },
        "outputId": "70439bb5-8eea-44ab-c9ed-80ab2298bab6"
      },
      "source": [
        "model.load_state_dict(torch.load(\"/content/gdrive/MyDrive/sprite_generator_v06_6.pt\"))"
      ],
      "execution_count": null,
      "outputs": [
        {
          "output_type": "execute_result",
          "data": {
            "text/plain": [
              "<All keys matched successfully>"
            ]
          },
          "metadata": {
            "tags": []
          },
          "execution_count": 99
        }
      ]
    },
    {
      "cell_type": "markdown",
      "metadata": {
        "id": "aU9A9IVjiE0a"
      },
      "source": [
        "### <font color='#f25'>[Ignore if not training new model]</font> Training the model"
      ]
    },
    {
      "cell_type": "code",
      "metadata": {
        "id": "IkA5myyvmMzT"
      },
      "source": [
        "optimizer = optim.Yogi(model.parameters(), lr=0.01, eps=1e-3)\n",
        "# scheduler = torch.optim.lr_scheduler.ReduceLROnPlateau(optimizer, factor=0.5, patience=5, verbose=True)"
      ],
      "execution_count": null,
      "outputs": []
    },
    {
      "cell_type": "code",
      "metadata": {
        "id": "WIPCCZZsvEHX"
      },
      "source": [
        "torch.set_grad_enabled(True)\n",
        "\n",
        "laplacian_kernel = torch.tensor([\n",
        "    [.05, .2, .05],\n",
        "    [ .2, -1, .2 ],\n",
        "    [.05, .2, .05]\n",
        "]).unsqueeze(0).unsqueeze(0).to(device)\n",
        "\n",
        "def laplacian_filter(x):\n",
        "    b, c, h, w = x.shape\n",
        "    x = x.reshape(b*c, 1, h, w)\n",
        "    x = F.pad(x, [2,2,2,2], mode='reflect')\n",
        "    x = F.conv2d(x, laplacian_kernel)\n",
        "    x = TF.pad(x, -1)\n",
        "    b2, c2, h2, w2 = x.shape\n",
        "    x = x.reshape(b, c, h2, w2)\n",
        "    return x\n",
        "\n",
        "def downscale_for_loss(x, downscale, interp=True, blur=True):\n",
        "    b, c, h, w = x.shape\n",
        "    h = h // downscale\n",
        "    w = w // downscale\n",
        "    if interp == True:\n",
        "        if blur == True:\n",
        "            kernel_size = (downscale//2)*2+1\n",
        "            x = TF.gaussian_blur(x, kernel_size, downscale/math.pi)\n",
        "        x = TF.resize(x, (h,w), T.InterpolationMode.BILINEAR)\n",
        "    if interp == False:\n",
        "        x = TF.resize(x, (h,w), T.InterpolationMode.NEAREST)\n",
        "    return x\n",
        "\n",
        "def unfold_tiles(x, size, step):\n",
        "    b, c, h, w = x.shape\n",
        "    x = x.unfold(-2,size,step).unfold(-2,size,step).reshape(b,-1,size*size)\n",
        "    return x\n",
        "\n",
        "dataset_aug = T.Compose([\n",
        "    T.RandomHorizontalFlip(0.5),\n",
        "])\n",
        "\n",
        "batch_size = 64\n",
        "\n",
        "for i in range(5001):\n",
        "    total_loss = 0.0\n",
        "    total_loss_steps = 0\n",
        "    random_selection = torch.randperm(pokemon_sprites.shape[0])\n",
        "    for batch in range(pokemon_sprites.shape[0]//batch_size):\n",
        "        batch_scaled = batch*batch_size\n",
        "        x = torch.cat([dataset_aug(pokemon_sprites[random_selection[batch_scaled + b]].unsqueeze(0)) for b in range(batch_size)])\n",
        "\n",
        "        reconstructions = model.encode(x)\n",
        "\n",
        "        # reconstructions = reconstructions + torch.randn_like(reconstructions).tanh() * torch.randn((reconstructions.shape[0],1,1,1)).mul(2).pow(2).tanh().mul(0.08).add(0.02).to(device)\n",
        "\n",
        "        reconstructions = model.decode(reconstructions, 25, dropout_p=0)\n",
        "\n",
        "        # === Loss Calculations === Begin\n",
        "        recon_pad = TF.pad(reconstructions, 4, padding_mode='reflect')\n",
        "        x_pad = TF.pad(x, 4, padding_mode='reflect')\n",
        "        loss  = unfold_tiles(recon_pad - x_pad, 8, 8).mul(2).pow(2).mean(-1).sum() * 1.0\n",
        "\n",
        "        loss += unfold_tiles(laplacian_filter(recon_pad - x_pad), 8, 8).mul(2).pow(2).mean(-1).sum() * 1.0\n",
        "\n",
        "        loss += unfold_tiles(recon_pad - torch.round(recon_pad * 3).div(3), 8, 8).mul(2).pow(2).mean(-1).sum() * 0.25\n",
        "        loss += unfold_tiles(recon_pad - torch.round(recon_pad * 3).div(3), 8, 8).pow(2).add(1e-8).pow(0.5).mean(-1).sum() * 0.25\n",
        "\n",
        "        loss += unfold_tiles(downscale_for_loss(recon_pad, 2) - downscale_for_loss(x_pad, 2), 4, 4).mul(2).pow(2).mean(-1).sum() * 0.125\n",
        "        loss += unfold_tiles(downscale_for_loss(recon_pad, 4) - downscale_for_loss(x_pad, 4), 4, 4).mul(2).pow(2).mean(-1).sum() * 0.125\n",
        "        loss += unfold_tiles(downscale_for_loss(recon_pad, 8) - downscale_for_loss(x_pad, 8), 2, 2).mul(2).pow(2).mean(-1).sum() * 0.25\n",
        "\n",
        "        # === Loss Calculations === End\n",
        "\n",
        "        with torch.no_grad():\n",
        "            total_loss += loss.item()\n",
        "            total_loss_steps += 1\n",
        "            loss.backward()\n",
        "            optimizer.step()\n",
        "            optimizer.zero_grad()\n",
        "    with torch.no_grad():\n",
        "        if i % 50 == 0:\n",
        "            print(i, total_loss / total_loss_steps)\n",
        "            previews = torch.cat([\n",
        "                              torch.cat([reconstructions.clamp(0,1)[ 0+r]   for r in range(3)], -1),\n",
        "                              torch.cat([reconstructions.clamp(0,1)[ 0+r+3] for r in range(3)], -1),\n",
        "                              torch.cat([reconstructions.clamp(0,1)[32+r+6] for r in range(3)], -1)\n",
        "                              ], -2)\n",
        "            display(ToImage(previews[0]).resize((336,336),0))"
      ],
      "execution_count": null,
      "outputs": []
    },
    {
      "cell_type": "code",
      "metadata": {
        "cellView": "form",
        "id": "dR48UbaJsKgC"
      },
      "source": [
        "#@markdown Old training code\n",
        "torch.set_grad_enabled(True)\n",
        "\n",
        "def downscale_for_loss(x, downscale, interp=True):\n",
        "    b, c, h, w = x.shape\n",
        "    h = h // downscale\n",
        "    w = w // downscale\n",
        "    if interp == True:\n",
        "        kernel_size = (downscale//2)*2+1\n",
        "        x = TF.gaussian_blur(x, kernel_size, downscale/math.pi)\n",
        "        x = TF.resize(x, (h,w), T.InterpolationMode.BILINEAR)\n",
        "    if interp == False:\n",
        "        x = TF.resize(x, (h,w), T.InterpolationMode.NEAREST)\n",
        "    return x\n",
        "\n",
        "def unfold_tiles(x, size, step):\n",
        "    b, c, h, w = x.shape\n",
        "    x = x.unfold(-2,size,step).unfold(-2,size,step).reshape(b,-1,size*size)\n",
        "    return x\n",
        "\n",
        "dataset_aug = T.Compose([\n",
        "    T.RandomHorizontalFlip(0.5),\n",
        "])\n",
        "\n",
        "batch_size = 64\n",
        "\n",
        "for i in range(5001):\n",
        "    total_loss = 0.0\n",
        "    total_loss_steps = 0\n",
        "    # for x, y in train_loader:\n",
        "    random_selection = torch.randperm(pokemon_sprites.shape[0])\n",
        "    for batch in range(pokemon_sprites.shape[0]//batch_size):\n",
        "        batch_scaled = batch*batch_size\n",
        "        x = torch.cat([dataset_aug(pokemon_sprites[random_selection[batch_scaled + b]].unsqueeze(0)) for b in range(batch_size)])\n",
        "        # x = pokemon_sprites[random_selection[batch_scaled:batch_scaled+batch_size]]\n",
        "        reconstructions = model.encode(x)\n",
        "\n",
        "        # === Encoded Latents Shuffling and Scrambling === Begin\n",
        "        reconstructions = reconstructions.reshape(2,2,16,32,49)\n",
        "\n",
        "        chunk_dice_length = 8\n",
        "        chunk_dice = torch.randperm(49)[:chunk_dice_length]\n",
        "\n",
        "        reconstructions_bak = reconstructions\n",
        "        reconstructions[0,0,:,:,chunk_dice] = reconstructions[0,1,:,:,chunk_dice]\n",
        "        reconstructions[0,1,:,:,chunk_dice] = reconstructions_bak[0,0,:,:,chunk_dice]\n",
        "\n",
        "        slice_dice_length = 8\n",
        "        slice_dice = torch.randperm(32)[:slice_dice_length]\n",
        "\n",
        "        reconstructions_bak = reconstructions\n",
        "        reconstructions[0,0,:,slice_dice] = reconstructions[0,1,:,slice_dice]\n",
        "        reconstructions[0,1,:,slice_dice] = reconstructions_bak[0,0,:,slice_dice]\n",
        "\n",
        "        reconstructions = reconstructions.reshape(64,32,7,7)\n",
        "        # === Encoded Latents Shuffling and Scrambling === End\n",
        "\n",
        "        reconstructions = reconstructions + torch.randn_like(reconstructions).tanh() * torch.randn((reconstructions.shape[0],1,1,1)).mul(2).pow(2).tanh().mul(0.08).add(0.02).to(device)\n",
        "\n",
        "        reconstructions = model.decode(reconstructions, 25)\n",
        "\n",
        "        # === Loss Calculations === Begin\n",
        "        recon_pad = TF.pad(reconstructions, 4, padding_mode='reflect')\n",
        "        x_pad = TF.pad(x, 4, padding_mode='reflect')\n",
        "        loss  = unfold_tiles(recon_pad[32:] - x_pad[32:], 8, 8).mul(2).pow(2).mean(-1).sum() * 1.0\n",
        "\n",
        "        loss += unfold_tiles(laplacian_filter(recon_pad[32:] - x_pad[32:]), 8, 8).mul(2).pow(2).mean(-1).sum() * 1.0\n",
        "\n",
        "        loss += unfold_tiles(reconstructions - torch.round(reconstructions * 3).div(3), 8, 4).mul(2).pow(2).mean(-1).sum() * 0.25\n",
        "\n",
        "        loss += unfold_tiles(downscale_for_loss(recon_pad[:32], 2) - downscale_for_loss(x_pad[:32], 2), 4, 2).pow(2).add(1e-8).pow(0.50).mean(-1).sum() * 0.25\n",
        "        loss += unfold_tiles(downscale_for_loss(recon_pad[:32], 4) - downscale_for_loss(x_pad[:32], 4), 4, 2).pow(2).add(1e-8).pow(0.25).mean(-1).sum() * 0.25\n",
        "        loss += unfold_tiles(downscale_for_loss(recon_pad[:32], 4) - downscale_for_loss(x_pad[:32], 4), 4, 2).pow(2).add(1e-8).pow(0.50).mean(-1).sum() * 0.25\n",
        "        loss += unfold_tiles(downscale_for_loss(recon_pad[:32], 8) - downscale_for_loss(x_pad[:32], 8), 2, 2).pow(2).add(1e-8).pow(1.00).mean(-1).sum() * 0.50\n",
        "\n",
        "        # === Loss Calculations === End\n",
        "\n",
        "        with torch.no_grad():\n",
        "            total_loss += loss.item()\n",
        "            total_loss_steps += 1\n",
        "            loss.backward()\n",
        "            optimizer.step()\n",
        "            optimizer.zero_grad()\n",
        "    with torch.no_grad():\n",
        "        if i % 50 == 0:\n",
        "            print(i, total_loss / total_loss_steps)\n",
        "            previews = torch.cat([\n",
        "                              torch.cat([reconstructions.clamp(0,1)[ 0+r]   for r in range(3)], -1),\n",
        "                              torch.cat([reconstructions.clamp(0,1)[ 0+r+3] for r in range(3)], -1),\n",
        "                              torch.cat([reconstructions.clamp(0,1)[32+r+6] for r in range(3)], -1)\n",
        "                              ], -2)\n",
        "            display(ToImage(previews[0]).resize((336,336),0))"
      ],
      "execution_count": null,
      "outputs": []
    },
    {
      "cell_type": "markdown",
      "metadata": {
        "id": "nLtgyyyaiLmG"
      },
      "source": [
        "# CLIP guided generation"
      ]
    },
    {
      "cell_type": "markdown",
      "metadata": {
        "id": "Y6fbijJqiWnm"
      },
      "source": [
        "### Throw the model into eval() and install CLIP\n",
        "And load CLIP"
      ]
    },
    {
      "cell_type": "code",
      "metadata": {
        "id": "G9mIyIj9iJaL"
      },
      "source": [
        "model.eval();"
      ],
      "execution_count": null,
      "outputs": []
    },
    {
      "cell_type": "code",
      "metadata": {
        "id": "19QYdrVvkLTL"
      },
      "source": [
        "!pip install --no-deps git+https://github.com/openai/CLIP.git\n",
        "!pip install --no-deps ftfy regex tqdm\n",
        "\n",
        "import clip\n",
        "device = torch.device(\"cuda\" if torch.cuda.is_available() else \"cpu\")\n",
        "torch.set_grad_enabled(False)\n",
        "\n",
        "perceptor, preprocess = clip.load(\"ViT-B/32\", jit=False)\n",
        "perceptor.eval().float().requires_grad_(False);\n",
        "\n",
        "CLIP_Normalization = T.Normalize((0.48145466, 0.4578275, 0.40821073), (0.26862954, 0.26130258, 0.27577711))"
      ],
      "execution_count": null,
      "outputs": []
    },
    {
      "cell_type": "markdown",
      "metadata": {
        "id": "TuDcvZPKiv4U"
      },
      "source": [
        "### Set the initial image"
      ]
    },
    {
      "cell_type": "code",
      "metadata": {
        "id": "N1TXWS_WkJ3Y"
      },
      "source": [
        "# Vignettes for init images and masking noise\n",
        "vig = torch.cat(torch.meshgrid(2*[torch.linspace(-1,1,64)])).reshape(2,64,64).pow(2).sum(0,True).mul(2).sub(0).clamp(0,1).to(device)\n",
        "vig = TF.crop(vig, 0, 4, 56, 56).unsqueeze(0)\n",
        "vig_7x7 = torch.cat(torch.meshgrid(2*[torch.linspace(-1,1,9)])).reshape(2,9,9).pow(2).sum(0,True).mul(3).sub(1).clamp(0,1).to(device)\n",
        "vig_7x7 = 1 - TF.crop(vig_7x7, 0, 1, 7, 7)\n",
        "\n",
        "blank_image = model.encode(vig - torch.rand_like(vig) * 0.333)\n",
        "blank_image = model.batchnorm(blank_image) # The encoder's values are huge due to the batchnorm being in the decoder section, but for easier optimization batchnorm it first.\n",
        "clip_root = blank_image.clone().detach() + torch.randn((1,32,7,7)).to(device).mul(vig_7x7) * 0.25\n",
        "clip_root = clip_root.requires_grad_(True)\n",
        "clip_optimizer = optim.Yogi([clip_root], lr=1/8, weight_decay=0.00)\n",
        "\n",
        "video_frames = None"
      ],
      "execution_count": null,
      "outputs": []
    },
    {
      "cell_type": "markdown",
      "metadata": {
        "id": "ugXejeSsiyC8"
      },
      "source": [
        "### Set the prompt"
      ]
    },
    {
      "cell_type": "code",
      "metadata": {
        "id": "GSA3eC8jis65"
      },
      "source": [
        "prompt = perceptor.encode_text(clip.tokenize([\"Floral, the florist Pokemon\"]).to(device)).mean(0,True)"
      ],
      "execution_count": null,
      "outputs": []
    },
    {
      "cell_type": "markdown",
      "metadata": {
        "id": "wE0QngrMi0P9"
      },
      "source": [
        "Or use an image as a prompt instead"
      ]
    },
    {
      "cell_type": "code",
      "metadata": {
        "id": "h1WooBMeDEKi"
      },
      "source": [
        "prompt_img = OpenImage(\"flickr_dog_000137.jpg\", (224,224)).tile(8,1,1,1)\n",
        "prompt_img += torch.randn_like(prompt_img) * 0.025\n",
        "prompt = perceptor.encode_image(CLIP_Normalization(prompt_img)).mean(0,True)"
      ],
      "execution_count": null,
      "outputs": []
    },
    {
      "cell_type": "markdown",
      "metadata": {
        "id": "6ncHFMKLi35D"
      },
      "source": [
        "# Generate images with CLIP guiding the model"
      ]
    },
    {
      "cell_type": "code",
      "metadata": {
        "id": "vKFR7EvHkN6-"
      },
      "source": [
        "torch.set_grad_enabled(True)\n",
        "model.eval()\n",
        "\n",
        "vig = torch.cat(torch.meshgrid(2*[torch.linspace(-1,1,64)])).reshape(2,64,64).pow(2).sum(0,True).mul(3).sub(1).clamp(0,1).pow(2).to(device)\n",
        "vig = TF.crop(vig, 0, 4, 56, 56)\n",
        "\n",
        "laplacian_kernel = torch.tensor([\n",
        "    [.05, .2, .05],\n",
        "    [ .2, -1, .2 ],\n",
        "    [.05, .2, .05]\n",
        "]).unsqueeze(0).unsqueeze(0).to(device)\n",
        "\n",
        "def laplacian_filter(x):\n",
        "    b, c, h, w = x.shape\n",
        "    x = x.reshape(b*c, 1, h, w)\n",
        "    x = F.pad(x, [2,2,2,2], mode='reflect')\n",
        "    x = F.conv2d(x, laplacian_kernel)\n",
        "    x = TF.pad(x, -1)\n",
        "    b2, c2, h2, w2 = x.shape\n",
        "    x = x.reshape(b, c, h2, w2)\n",
        "    return x\n",
        "\n",
        "def white_background_check(x):\n",
        "    x = 1 - x\n",
        "    x = x * vig\n",
        "    x_mean = x.mean()\n",
        "    x_std = x.std()\n",
        "    return x_mean + x_std\n",
        "\n",
        "def sneaky_round(x):\n",
        "    new_x = x\n",
        "    with torch.no_grad():\n",
        "      new_x[:] = x.mul(3).round().div(3)\n",
        "    return new_x\n",
        "\n",
        "augments = T.Compose([\n",
        "        T.RandomChoice([\n",
        "            T.Resize((224,224), T.InterpolationMode.NEAREST),\n",
        "            T.Resize((224,224), T.InterpolationMode.BILINEAR),\n",
        "            T.Resize((240,224), T.InterpolationMode.NEAREST),\n",
        "            T.Resize((240,224), T.InterpolationMode.BILINEAR),\n",
        "            T.Resize((256,224), T.InterpolationMode.NEAREST),\n",
        "            T.Resize((256,224), T.InterpolationMode.BILINEAR),\n",
        "            T.Resize((224,240), T.InterpolationMode.NEAREST),\n",
        "            T.Resize((224,240), T.InterpolationMode.BILINEAR),\n",
        "            T.Resize((224,256), T.InterpolationMode.NEAREST),\n",
        "            T.Resize((224,256), T.InterpolationMode.BILINEAR),\n",
        "        ]),\n",
        "        T.Pad(64, fill=1.0),\n",
        "        T.RandomRotation(15, T.InterpolationMode.BILINEAR),\n",
        "        T.Pad(-56),\n",
        "        T.RandomChoice([\n",
        "            T.Lambda(lambda x: TF.gaussian_blur(x, 7, 2.55)),\n",
        "            T.Lambda(lambda x: TF.gaussian_blur(x, 5, 1.27)),\n",
        "            T.Lambda(lambda x: TF.gaussian_blur(x, 3, 0.64)),\n",
        "            T.Lambda(lambda x: x),\n",
        "        ]),\n",
        "        T.Lambda(lambda x: x + torch.rand(1,).item() * 0.2 - 0.1),\n",
        "        T.Lambda(lambda x: x * (torch.rand(1,).item() * 0.3 + 0.85)),\n",
        "        T.RandomCrop((224,224)),\n",
        "        T.Lambda(lambda x: x + torch.randn_like(x).mul(0.02)),\n",
        "        T.Normalize((0.48145466, 0.4578275, 0.40821073), (0.26862954, 0.26130258, 0.27577711)),\n",
        "])\n",
        "\n",
        "gentle_augments = T.Compose([\n",
        "        T.RandomChoice([\n",
        "            T.Resize((224,224), T.InterpolationMode.NEAREST),\n",
        "            T.Resize((224,224), T.InterpolationMode.BILINEAR),\n",
        "        ]),\n",
        "        T.Pad(16, fill=1.0),\n",
        "        T.RandomRotation(2, T.InterpolationMode.BILINEAR),\n",
        "        T.Pad(-12),\n",
        "        T.RandomChoice([\n",
        "            T.Lambda(lambda x: TF.gaussian_blur(x, 7, 2.55)),\n",
        "            T.Lambda(lambda x: TF.gaussian_blur(x, 5, 1.27)),\n",
        "            T.Lambda(lambda x: TF.gaussian_blur(x, 3, 0.64)),\n",
        "            T.Lambda(lambda x: x),\n",
        "        ]),\n",
        "        T.Lambda(lambda x: x + torch.rand(1,).item() * 0.2 - 0.1),\n",
        "        T.Lambda(lambda x: x * (torch.rand(1,).item() * 0.3 + 0.85)),\n",
        "        T.RandomCrop((224,224)),\n",
        "        T.Lambda(lambda x: x + torch.randn_like(x).mul(0.02)),\n",
        "        T.Normalize((0.48145466, 0.4578275, 0.40821073), (0.26862954, 0.26130258, 0.27577711)),\n",
        "])\n",
        "\n",
        "for i in range(500):\n",
        "    x = model.decode(clip_root)\n",
        "    x_color = x.tile(1,3,1,1)\n",
        "\n",
        "    with torch.no_grad(): #This is just preparing frames for the video. It stores them in ram, not gpu memory, so it shouldn't impact much.\n",
        "        x_color_big = TF.resize(x_color, (112,112), T.InterpolationMode.NEAREST)\n",
        "        x_color_big = F.interpolate(x_color_big, (224,224), mode='bicubic', align_corners=False)\n",
        "        if video_frames == None:\n",
        "            video_frames = (x_color_big.permute(0,2,3,1).clamp(0,1)*255).byte().cpu()\n",
        "        else:\n",
        "            video_frames = torch.cat([video_frames, (x_color_big.permute(0,2,3,1).clamp(0,1)*255).byte().cpu()])\n",
        "\n",
        "    x_aug = torch.cat([augments(x_color) for _ in range(16)])\n",
        "    x_enc = perceptor.encode_image(x_aug)\n",
        "    comparisons = 1.0 - torch.cosine_similarity(prompt, x_enc, -1)\n",
        "    loss  = torch.mean(comparisons)\n",
        "    loss += (x - torch.round(x*3).div(3)).pow(2).mean() * 0.25\n",
        "    loss += white_background_check(x).mul(2).pow(2) * 0.25\n",
        "    loss += laplacian_filter(x).mean().pow(4)\n",
        "    with torch.no_grad():\n",
        "        loss.backward()\n",
        "        # clip_root.grad = TF.gaussian_blur(clip_root.grad, 3) * 0.25 + clip_root.grad * 0.75\n",
        "        clip_root.grad /= clip_root.grad.norm().add(1e-8)\n",
        "        clip_optimizer.step()\n",
        "        clip_optimizer.zero_grad()\n",
        "        if i % 100 == 0:\n",
        "            print(i, loss.item())\n",
        "            display(ToImage(x.clamp(0,1)[0]).resize((224,224),0))\n",
        "\n",
        "x = model.decode(clip_root)\n",
        "display(ToImage(x.clamp(0,1)[0]).resize((224,224),0))"
      ],
      "execution_count": null,
      "outputs": []
    },
    {
      "cell_type": "markdown",
      "metadata": {
        "id": "kcZ3MaAri9PL"
      },
      "source": [
        "Write video of generation process"
      ]
    },
    {
      "cell_type": "code",
      "metadata": {
        "id": "pHByhFjc1V5R"
      },
      "source": [
        "torchvision.io.write_video(\"lr_100.mp4\", video_frames, fps=15, options={'crf': '30'})"
      ],
      "execution_count": null,
      "outputs": []
    }
  ]
}