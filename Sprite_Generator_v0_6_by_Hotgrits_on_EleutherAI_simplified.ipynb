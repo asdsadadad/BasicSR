{
  "nbformat": 4,
  "nbformat_minor": 0,
  "metadata": {
    "colab": {
      "name": "Sprite_Generator_v0_6_Breadsticks.ipynb",
      "provenance": [],
      "collapsed_sections": [
        "sEX3N-Qwhsjb",
        "6jEMkq_2hE6f",
        "Hd6_zISfh0HK",
        "WS1xG2mvh5jh",
        "87EmMx5Kh9P7",
        "HZ9KdWKxjhDs",
        "aU9A9IVjiE0a"
      ],
      "include_colab_link": true
    },
    "kernelspec": {
      "name": "python3",
      "display_name": "Python 3"
    },
    "language_info": {
      "name": "python"
    },
    "accelerator": "GPU"
  },
  "cells": [
    {
      "cell_type": "markdown",
      "metadata": {
        "id": "view-in-github",
        "colab_type": "text"
      },
      "source": [
        "<a href=\"https://colab.research.google.com/github/asdsadadad/BasicSR/blob/master/Sprite_Generator_v0_6_by_Hotgrits_on_EleutherAI_simplified.ipynb\" target=\"_parent\"><img src=\"https://colab.research.google.com/assets/colab-badge.svg\" alt=\"Open In Colab\"/></a>"
      ]
    },
    {
      "cell_type": "code",
      "metadata": {
        "id": "v7K8s5Ddlzpy",
        "outputId": "ee0625b7-ecb9-4681-98a5-4c91bb6e7a79",
        "colab": {
          "base_uri": "https://localhost:8080/"
        }
      },
      "source": [
        "!nvidia-smi"
      ],
      "execution_count": 1,
      "outputs": [
        {
          "output_type": "stream",
          "name": "stdout",
          "text": [
            "Wed Oct  6 00:46:10 2021       \n",
            "+-----------------------------------------------------------------------------+\n",
            "| NVIDIA-SMI 470.74       Driver Version: 460.32.03    CUDA Version: 11.2     |\n",
            "|-------------------------------+----------------------+----------------------+\n",
            "| GPU  Name        Persistence-M| Bus-Id        Disp.A | Volatile Uncorr. ECC |\n",
            "| Fan  Temp  Perf  Pwr:Usage/Cap|         Memory-Usage | GPU-Util  Compute M. |\n",
            "|                               |                      |               MIG M. |\n",
            "|===============================+======================+======================|\n",
            "|   0  Tesla K80           Off  | 00000000:00:04.0 Off |                    0 |\n",
            "| N/A   33C    P8    29W / 149W |      0MiB / 11441MiB |      0%      Default |\n",
            "|                               |                      |                  N/A |\n",
            "+-------------------------------+----------------------+----------------------+\n",
            "                                                                               \n",
            "+-----------------------------------------------------------------------------+\n",
            "| Processes:                                                                  |\n",
            "|  GPU   GI   CI        PID   Type   Process name                  GPU Memory |\n",
            "|        ID   ID                                                   Usage      |\n",
            "|=============================================================================|\n",
            "|  No running processes found                                                 |\n",
            "+-----------------------------------------------------------------------------+\n"
          ]
        }
      ]
    },
    {
      "cell_type": "markdown",
      "metadata": {
        "id": "sEX3N-Qwhsjb"
      },
      "source": [
        "## Run this (you only need to do this once per session)\n"
      ]
    },
    {
      "cell_type": "code",
      "metadata": {
        "id": "mYzQ_NNalzTm",
        "outputId": "b3890d8a-c0b4-43b0-dd89-274f16f6e2d6",
        "colab": {
          "base_uri": "https://localhost:8080/"
        }
      },
      "source": [
        "!curl -L -o sprite_generator_v06_6.pt -C - 'https://cdn.discordapp.com/attachments/730484623028519072/867593206220718112/sprite_generator_v06_7-21-2021_7.pt'\n",
        "!pip -qq install torch_optimizer\n",
        "!pip -qq install av\n",
        "import torch\n",
        "import torch.nn as nn\n",
        "import torch.nn.functional as F\n",
        "import torchvision\n",
        "import torchvision.transforms as T\n",
        "import torchvision.transforms.functional as TF\n",
        "import torch_optimizer as optim\n",
        "import PIL\n",
        "from PIL import Image\n",
        "import random\n",
        "import math\n",
        "import gc\n",
        "\n",
        "device = torch.device(\"cuda\" if torch.cuda.is_available() else \"cpu\")\n",
        "torch.set_grad_enabled(False)\n",
        "\n",
        "def clear_mem():\n",
        "    torch.cuda.empty_cache()\n",
        "    gc.collect()\n",
        "\n",
        "ToTensor = T.ToTensor()\n",
        "ToImage  = T.ToPILImage()\n",
        "\n",
        "def OpenImage(x, resize=None, convert=\"RGB\"):\n",
        "    if resize:\n",
        "        return ToTensor(Image.open(x).convert(convert).resize(resize)).unsqueeze(0).to(device)\n",
        "    else:\n",
        "        return ToTensor(Image.open(x).convert(convert)).unsqueeze(0).to(device)\n",
        "\n",
        "def diff_abs(x, y=0.0001):\n",
        "    return torch.sqrt(x*x+y)\n",
        "\n",
        "def diff_relu(x, y=0.0001):\n",
        "    return (torch.sqrt(x*x+y)+x)*0.5\n",
        "\n",
        "def diff_clamp(x, y=0.0001):\n",
        "    return diff_relu(1-diff_relu(1-x, y), y)\n",
        "\n",
        "class PixelNet(torch.nn.Module):\n",
        "    def __init__(self):\n",
        "        super(PixelNet, self).__init__()\n",
        "\n",
        "        self.enc_layers_0 = nn.Sequential(\n",
        "                              nn.Conv2d( 1,  8, 2, 2, 0),\n",
        "                              nn.Conv2d( 8, 16, 2, 2, 0),\n",
        "                              nn.Conv2d(16, 32, 2, 2, 0),\n",
        "                        )\n",
        "\n",
        "        self.batchnorm = nn.InstanceNorm2d(32)\n",
        "\n",
        "        self.lin_layers = nn.Sequential(\n",
        "                              nn.Conv2d(32, 64, 3, 1, 1),\n",
        "                              nn.BatchNorm2d(64),\n",
        "                              nn.GELU(),\n",
        "                              nn.Conv2d(64, 64, 3, 1, 1),\n",
        "                              nn.BatchNorm2d(64),\n",
        "                              nn.GELU(),\n",
        "                              nn.Conv2d(64, 32, 3, 1, 1),\n",
        "                              nn.BatchNorm2d(32),\n",
        "                          )\n",
        "\n",
        "        self.cnn_layers = nn.Sequential(\n",
        "                              nn.Conv2d(32, 32, 3, 1, 1),      \n",
        "                              nn.ConvTranspose2d(32, 16, 2, 2),\n",
        "                              nn.Conv2d(16, 32, 3, 1, 1),      \n",
        "                              nn.BatchNorm2d(32),              \n",
        "                              nn.GELU(),                       \n",
        "                              nn.ConvTranspose2d(32, 16, 2, 2),\n",
        "                              nn.Conv2d(16, 32, 3, 1, 1),      \n",
        "                              nn.BatchNorm2d(32),              \n",
        "                              nn.GELU(),                       \n",
        "                              nn.ConvTranspose2d(32, 16, 2, 2),\n",
        "                              nn.Conv2d(16, 4, 3, 1, 1),       \n",
        "                          )\n",
        "\n",
        "        self.palette = torch.tensor([[0.0, 0.333, 0.667, 1.0]]).T.to(device)\n",
        "\n",
        "    def encode(self, x):\n",
        "        x = self.enc_layers_0(x)\n",
        "        return x\n",
        "\n",
        "    def decode(self, x, y=25, batchnorm=True, dropout_p=0):\n",
        "        if dropout_p == 0:\n",
        "            dropout = nn.Identity()\n",
        "        else:\n",
        "            dropout = nn.AlphaDropout(dropout_p)\n",
        "        if batchnorm == True:\n",
        "            x = self.batchnorm(x)\n",
        "        # x = self.lin_layers(x)\n",
        "        # x = self.cnn_layers(x)\n",
        "        x = self.lin_layers[:3](x)\n",
        "        x = dropout(x)\n",
        "        x = self.lin_layers[3:6](x)\n",
        "        x = self.lin_layers[6:](x)\n",
        "        x = dropout(x)\n",
        "        x = self.cnn_layers[0](x)\n",
        "        x = dropout(x)\n",
        "        x = self.cnn_layers[1:](x)\n",
        "        x = (x.permute(0,2,3,1).mul(y).softmax(-1) @ self.palette).permute(0,3,1,2)\n",
        "        return x\n",
        "\n",
        "    def forward(self, x, y=25):\n",
        "        x = self.encode(x)\n",
        "        x = self.decode(x, y)\n",
        "        return x\n",
        "\n",
        "model = PixelNet().to(device)\n",
        "\n",
        "# model(torch.rand(8,1,56,56).to(device)).shape\n",
        "\n",
        "model.load_state_dict(torch.load(\"/content/sprite_generator_v06_6.pt\"))\n",
        "model.eval();\n",
        "!pip install --no-deps git+https://github.com/openai/CLIP.git\n",
        "!pip install --no-deps ftfy regex tqdm\n",
        "\n",
        "import clip\n",
        "device = torch.device(\"cuda\" if torch.cuda.is_available() else \"cpu\")\n",
        "torch.set_grad_enabled(False)\n",
        "\n",
        "perceptor, preprocess = clip.load(\"ViT-B/32\", jit=False)\n",
        "perceptor.eval().float().requires_grad_(False);\n",
        "\n",
        "CLIP_Normalization = T.Normalize((0.48145466, 0.4578275, 0.40821073), (0.26862954, 0.26130258, 0.27577711))\n",
        "\n",
        "\n",
        "\n"
      ],
      "execution_count": 2,
      "outputs": [
        {
          "output_type": "stream",
          "name": "stdout",
          "text": [
            "  % Total    % Received % Xferd  Average Speed   Time    Time     Time  Current\n",
            "                                 Dload  Upload   Total   Spent    Left  Speed\n",
            "100  416k  100  416k    0     0  1375k      0 --:--:-- --:--:-- --:--:-- 1371k\n",
            "\u001b[K     |████████████████████████████████| 72 kB 515 kB/s \n",
            "\u001b[K     |████████████████████████████████| 37.2 MB 31 kB/s \n",
            "\u001b[?25hCollecting git+https://github.com/openai/CLIP.git\n",
            "  Cloning https://github.com/openai/CLIP.git to /tmp/pip-req-build-lk5y75d1\n",
            "  Running command git clone -q https://github.com/openai/CLIP.git /tmp/pip-req-build-lk5y75d1\n",
            "Building wheels for collected packages: clip\n",
            "  Building wheel for clip (setup.py) ... \u001b[?25l\u001b[?25hdone\n",
            "  Created wheel for clip: filename=clip-1.0-py3-none-any.whl size=1369090 sha256=9ad51f0e5215d09725256107c0e8693c587b0089d095ad670c3faa7e08eebdad\n",
            "  Stored in directory: /tmp/pip-ephem-wheel-cache-i00xrp5s/wheels/fd/b9/c3/5b4470e35ed76e174bff77c92f91da82098d5e35fd5bc8cdac\n",
            "Successfully built clip\n",
            "Installing collected packages: clip\n",
            "Successfully installed clip-1.0\n",
            "Collecting ftfy\n",
            "  Downloading ftfy-6.0.3.tar.gz (64 kB)\n",
            "\u001b[K     |████████████████████████████████| 64 kB 1.9 MB/s \n",
            "\u001b[?25hRequirement already satisfied: regex in /usr/local/lib/python3.7/dist-packages (2019.12.20)\n",
            "Requirement already satisfied: tqdm in /usr/local/lib/python3.7/dist-packages (4.62.3)\n",
            "Building wheels for collected packages: ftfy\n",
            "  Building wheel for ftfy (setup.py) ... \u001b[?25l\u001b[?25hdone\n",
            "  Created wheel for ftfy: filename=ftfy-6.0.3-py3-none-any.whl size=41933 sha256=85fd8caed418b4fe488763c5d82e90f5dc2320aea277c4bc944341417c303c21\n",
            "  Stored in directory: /root/.cache/pip/wheels/19/f5/38/273eb3b5e76dfd850619312f693716ac4518b498f5ffb6f56d\n",
            "Successfully built ftfy\n",
            "Installing collected packages: ftfy\n",
            "Successfully installed ftfy-6.0.3\n"
          ]
        },
        {
          "output_type": "stream",
          "name": "stderr",
          "text": [
            "100%|███████████████████████████████████████| 338M/338M [00:17<00:00, 20.3MiB/s]\n"
          ]
        }
      ]
    },
    {
      "cell_type": "markdown",
      "metadata": {
        "id": "KJXtXU26DvyE"
      },
      "source": [
        "## Generate the image"
      ]
    },
    {
      "cell_type": "markdown",
      "metadata": {
        "id": "VSr_fENSD8Sc"
      },
      "source": [
        "Set the prompt"
      ]
    },
    {
      "cell_type": "code",
      "metadata": {
        "id": "efbhY8zgD8Dc"
      },
      "source": [
        "prompt = perceptor.encode_text(clip.tokenize([\"Metal Gear Solid\"]).to(device)).mean(0,True)"
      ],
      "execution_count": 7,
      "outputs": []
    },
    {
      "cell_type": "markdown",
      "metadata": {
        "id": "s0gzOyHbD7r8"
      },
      "source": [
        "Or use an image as a prompt instead"
      ]
    },
    {
      "cell_type": "code",
      "metadata": {
        "id": "AdzyVoWjD7ES",
        "outputId": "191ab1f3-5a41-4f47-9d0e-826299016720",
        "colab": {
          "base_uri": "https://localhost:8080/",
          "height": 362
        }
      },
      "source": [
        "prompt_img = OpenImage(\"flickr_dog_000137.jpg\", (224,224)).tile(8,1,1,1)\n",
        "prompt_img += torch.randn_like(prompt_img) * 0.025\n",
        "prompt = perceptor.encode_image(CLIP_Normalization(prompt_img)).mean(0,True)"
      ],
      "execution_count": 4,
      "outputs": [
        {
          "output_type": "error",
          "ename": "FileNotFoundError",
          "evalue": "ignored",
          "traceback": [
            "\u001b[0;31m---------------------------------------------------------------------------\u001b[0m",
            "\u001b[0;31mFileNotFoundError\u001b[0m                         Traceback (most recent call last)",
            "\u001b[0;32m<ipython-input-4-e999d580f37e>\u001b[0m in \u001b[0;36m<module>\u001b[0;34m()\u001b[0m\n\u001b[0;32m----> 1\u001b[0;31m \u001b[0mprompt_img\u001b[0m \u001b[0;34m=\u001b[0m \u001b[0mOpenImage\u001b[0m\u001b[0;34m(\u001b[0m\u001b[0;34m\"flickr_dog_000137.jpg\"\u001b[0m\u001b[0;34m,\u001b[0m \u001b[0;34m(\u001b[0m\u001b[0;36m224\u001b[0m\u001b[0;34m,\u001b[0m\u001b[0;36m224\u001b[0m\u001b[0;34m)\u001b[0m\u001b[0;34m)\u001b[0m\u001b[0;34m.\u001b[0m\u001b[0mtile\u001b[0m\u001b[0;34m(\u001b[0m\u001b[0;36m8\u001b[0m\u001b[0;34m,\u001b[0m\u001b[0;36m1\u001b[0m\u001b[0;34m,\u001b[0m\u001b[0;36m1\u001b[0m\u001b[0;34m,\u001b[0m\u001b[0;36m1\u001b[0m\u001b[0;34m)\u001b[0m\u001b[0;34m\u001b[0m\u001b[0;34m\u001b[0m\u001b[0m\n\u001b[0m\u001b[1;32m      2\u001b[0m \u001b[0mprompt_img\u001b[0m \u001b[0;34m+=\u001b[0m \u001b[0mtorch\u001b[0m\u001b[0;34m.\u001b[0m\u001b[0mrandn_like\u001b[0m\u001b[0;34m(\u001b[0m\u001b[0mprompt_img\u001b[0m\u001b[0;34m)\u001b[0m \u001b[0;34m*\u001b[0m \u001b[0;36m0.025\u001b[0m\u001b[0;34m\u001b[0m\u001b[0;34m\u001b[0m\u001b[0m\n\u001b[1;32m      3\u001b[0m \u001b[0mprompt\u001b[0m \u001b[0;34m=\u001b[0m \u001b[0mperceptor\u001b[0m\u001b[0;34m.\u001b[0m\u001b[0mencode_image\u001b[0m\u001b[0;34m(\u001b[0m\u001b[0mCLIP_Normalization\u001b[0m\u001b[0;34m(\u001b[0m\u001b[0mprompt_img\u001b[0m\u001b[0;34m)\u001b[0m\u001b[0;34m)\u001b[0m\u001b[0;34m.\u001b[0m\u001b[0mmean\u001b[0m\u001b[0;34m(\u001b[0m\u001b[0;36m0\u001b[0m\u001b[0;34m,\u001b[0m\u001b[0;32mTrue\u001b[0m\u001b[0;34m)\u001b[0m\u001b[0;34m\u001b[0m\u001b[0;34m\u001b[0m\u001b[0m\n",
            "\u001b[0;32m<ipython-input-2-09413abbdf3b>\u001b[0m in \u001b[0;36mOpenImage\u001b[0;34m(x, resize, convert)\u001b[0m\n\u001b[1;32m     27\u001b[0m \u001b[0;32mdef\u001b[0m \u001b[0mOpenImage\u001b[0m\u001b[0;34m(\u001b[0m\u001b[0mx\u001b[0m\u001b[0;34m,\u001b[0m \u001b[0mresize\u001b[0m\u001b[0;34m=\u001b[0m\u001b[0;32mNone\u001b[0m\u001b[0;34m,\u001b[0m \u001b[0mconvert\u001b[0m\u001b[0;34m=\u001b[0m\u001b[0;34m\"RGB\"\u001b[0m\u001b[0;34m)\u001b[0m\u001b[0;34m:\u001b[0m\u001b[0;34m\u001b[0m\u001b[0;34m\u001b[0m\u001b[0m\n\u001b[1;32m     28\u001b[0m     \u001b[0;32mif\u001b[0m \u001b[0mresize\u001b[0m\u001b[0;34m:\u001b[0m\u001b[0;34m\u001b[0m\u001b[0;34m\u001b[0m\u001b[0m\n\u001b[0;32m---> 29\u001b[0;31m         \u001b[0;32mreturn\u001b[0m \u001b[0mToTensor\u001b[0m\u001b[0;34m(\u001b[0m\u001b[0mImage\u001b[0m\u001b[0;34m.\u001b[0m\u001b[0mopen\u001b[0m\u001b[0;34m(\u001b[0m\u001b[0mx\u001b[0m\u001b[0;34m)\u001b[0m\u001b[0;34m.\u001b[0m\u001b[0mconvert\u001b[0m\u001b[0;34m(\u001b[0m\u001b[0mconvert\u001b[0m\u001b[0;34m)\u001b[0m\u001b[0;34m.\u001b[0m\u001b[0mresize\u001b[0m\u001b[0;34m(\u001b[0m\u001b[0mresize\u001b[0m\u001b[0;34m)\u001b[0m\u001b[0;34m)\u001b[0m\u001b[0;34m.\u001b[0m\u001b[0munsqueeze\u001b[0m\u001b[0;34m(\u001b[0m\u001b[0;36m0\u001b[0m\u001b[0;34m)\u001b[0m\u001b[0;34m.\u001b[0m\u001b[0mto\u001b[0m\u001b[0;34m(\u001b[0m\u001b[0mdevice\u001b[0m\u001b[0;34m)\u001b[0m\u001b[0;34m\u001b[0m\u001b[0;34m\u001b[0m\u001b[0m\n\u001b[0m\u001b[1;32m     30\u001b[0m     \u001b[0;32melse\u001b[0m\u001b[0;34m:\u001b[0m\u001b[0;34m\u001b[0m\u001b[0;34m\u001b[0m\u001b[0m\n\u001b[1;32m     31\u001b[0m         \u001b[0;32mreturn\u001b[0m \u001b[0mToTensor\u001b[0m\u001b[0;34m(\u001b[0m\u001b[0mImage\u001b[0m\u001b[0;34m.\u001b[0m\u001b[0mopen\u001b[0m\u001b[0;34m(\u001b[0m\u001b[0mx\u001b[0m\u001b[0;34m)\u001b[0m\u001b[0;34m.\u001b[0m\u001b[0mconvert\u001b[0m\u001b[0;34m(\u001b[0m\u001b[0mconvert\u001b[0m\u001b[0;34m)\u001b[0m\u001b[0;34m)\u001b[0m\u001b[0;34m.\u001b[0m\u001b[0munsqueeze\u001b[0m\u001b[0;34m(\u001b[0m\u001b[0;36m0\u001b[0m\u001b[0;34m)\u001b[0m\u001b[0;34m.\u001b[0m\u001b[0mto\u001b[0m\u001b[0;34m(\u001b[0m\u001b[0mdevice\u001b[0m\u001b[0;34m)\u001b[0m\u001b[0;34m\u001b[0m\u001b[0;34m\u001b[0m\u001b[0m\n",
            "\u001b[0;32m/usr/local/lib/python3.7/dist-packages/PIL/Image.py\u001b[0m in \u001b[0;36mopen\u001b[0;34m(fp, mode)\u001b[0m\n\u001b[1;32m   2841\u001b[0m \u001b[0;34m\u001b[0m\u001b[0m\n\u001b[1;32m   2842\u001b[0m     \u001b[0;32mif\u001b[0m \u001b[0mfilename\u001b[0m\u001b[0;34m:\u001b[0m\u001b[0;34m\u001b[0m\u001b[0;34m\u001b[0m\u001b[0m\n\u001b[0;32m-> 2843\u001b[0;31m         \u001b[0mfp\u001b[0m \u001b[0;34m=\u001b[0m \u001b[0mbuiltins\u001b[0m\u001b[0;34m.\u001b[0m\u001b[0mopen\u001b[0m\u001b[0;34m(\u001b[0m\u001b[0mfilename\u001b[0m\u001b[0;34m,\u001b[0m \u001b[0;34m\"rb\"\u001b[0m\u001b[0;34m)\u001b[0m\u001b[0;34m\u001b[0m\u001b[0;34m\u001b[0m\u001b[0m\n\u001b[0m\u001b[1;32m   2844\u001b[0m         \u001b[0mexclusive_fp\u001b[0m \u001b[0;34m=\u001b[0m \u001b[0;32mTrue\u001b[0m\u001b[0;34m\u001b[0m\u001b[0;34m\u001b[0m\u001b[0m\n\u001b[1;32m   2845\u001b[0m \u001b[0;34m\u001b[0m\u001b[0m\n",
            "\u001b[0;31mFileNotFoundError\u001b[0m: [Errno 2] No such file or directory: 'flickr_dog_000137.jpg'"
          ]
        }
      ]
    },
    {
      "cell_type": "markdown",
      "metadata": {
        "id": "6XkQiJb4Ekbl"
      },
      "source": [
        "Then press Play here to generate"
      ]
    },
    {
      "cell_type": "code",
      "metadata": {
        "id": "vKFR7EvHkN6-",
        "outputId": "7888402b-0a5e-4799-9da0-22001879f089",
        "colab": {
          "base_uri": "https://localhost:8080/",
          "height": 741
        }
      },
      "source": [
        "# Vignettes for init images and masking noise\n",
        "vig = torch.cat(torch.meshgrid(2*[torch.linspace(-1,1,64)])).reshape(2,64,64).pow(2).sum(0,True).mul(2).sub(0).clamp(0,1).to(device)\n",
        "vig = TF.crop(vig, 0, 4, 56, 56).unsqueeze(0)\n",
        "vig_7x7 = torch.cat(torch.meshgrid(2*[torch.linspace(-1,1,9)])).reshape(2,9,9).pow(2).sum(0,True).mul(3).sub(1).clamp(0,1).to(device)\n",
        "vig_7x7 = 1 - TF.crop(vig_7x7, 0, 1, 7, 7)\n",
        "\n",
        "blank_image = model.encode(vig - torch.rand_like(vig) * 0.333)\n",
        "blank_image = model.batchnorm(blank_image) # The encoder's values are huge due to the batchnorm being in the decoder section, but for easier optimization batchnorm it first.\n",
        "clip_root = blank_image.clone().detach() + torch.randn((1,32,7,7)).to(device).mul(vig_7x7) * 0.25\n",
        "clip_root = clip_root.requires_grad_(True)\n",
        "clip_optimizer = optim.Yogi([clip_root], lr=1/8, weight_decay=0.00)\n",
        "\n",
        "video_frames = None\n",
        "\n",
        "torch.set_grad_enabled(True)\n",
        "model.eval()\n",
        "\n",
        "vig = torch.cat(torch.meshgrid(2*[torch.linspace(-1,1,64)])).reshape(2,64,64).pow(2).sum(0,True).mul(3).sub(1).clamp(0,1).pow(2).to(device)\n",
        "vig = TF.crop(vig, 0, 4, 56, 56)\n",
        "\n",
        "laplacian_kernel = torch.tensor([\n",
        "    [.05, .2, .05],\n",
        "    [ .2, -1, .2 ],\n",
        "    [.05, .2, .05]\n",
        "]).unsqueeze(0).unsqueeze(0).to(device)\n",
        "\n",
        "def laplacian_filter(x):\n",
        "    b, c, h, w = x.shape\n",
        "    x = x.reshape(b*c, 1, h, w)\n",
        "    x = F.pad(x, [2,2,2,2], mode='reflect')\n",
        "    x = F.conv2d(x, laplacian_kernel)\n",
        "    x = TF.pad(x, -1)\n",
        "    b2, c2, h2, w2 = x.shape\n",
        "    x = x.reshape(b, c, h2, w2)\n",
        "    return x\n",
        "\n",
        "def white_background_check(x):\n",
        "    x = 1 - x\n",
        "    x = x * vig\n",
        "    x_mean = x.mean()\n",
        "    x_std = x.std()\n",
        "    return x_mean + x_std\n",
        "\n",
        "def sneaky_round(x):\n",
        "    new_x = x\n",
        "    with torch.no_grad():\n",
        "      new_x[:] = x.mul(3).round().div(3)\n",
        "    return new_x\n",
        "\n",
        "augments = T.Compose([\n",
        "        T.RandomChoice([\n",
        "            T.Resize((224,224), T.InterpolationMode.NEAREST),\n",
        "            T.Resize((224,224), T.InterpolationMode.BILINEAR),\n",
        "            T.Resize((240,224), T.InterpolationMode.NEAREST),\n",
        "            T.Resize((240,224), T.InterpolationMode.BILINEAR),\n",
        "            T.Resize((256,224), T.InterpolationMode.NEAREST),\n",
        "            T.Resize((256,224), T.InterpolationMode.BILINEAR),\n",
        "            T.Resize((224,240), T.InterpolationMode.NEAREST),\n",
        "            T.Resize((224,240), T.InterpolationMode.BILINEAR),\n",
        "            T.Resize((224,256), T.InterpolationMode.NEAREST),\n",
        "            T.Resize((224,256), T.InterpolationMode.BILINEAR),\n",
        "        ]),\n",
        "        T.Pad(64, fill=1.0),\n",
        "        T.RandomRotation(15, T.InterpolationMode.BILINEAR),\n",
        "        T.Pad(-56),\n",
        "        T.RandomChoice([\n",
        "            T.Lambda(lambda x: TF.gaussian_blur(x, 7, 2.55)),\n",
        "            T.Lambda(lambda x: TF.gaussian_blur(x, 5, 1.27)),\n",
        "            T.Lambda(lambda x: TF.gaussian_blur(x, 3, 0.64)),\n",
        "            T.Lambda(lambda x: x),\n",
        "        ]),\n",
        "        T.Lambda(lambda x: x + torch.rand(1,).item() * 0.2 - 0.1),\n",
        "        T.Lambda(lambda x: x * (torch.rand(1,).item() * 0.3 + 0.85)),\n",
        "        T.RandomCrop((224,224)),\n",
        "        T.Lambda(lambda x: x + torch.randn_like(x).mul(0.02)),\n",
        "        T.Normalize((0.48145466, 0.4578275, 0.40821073), (0.26862954, 0.26130258, 0.27577711)),\n",
        "])\n",
        "\n",
        "gentle_augments = T.Compose([\n",
        "        T.RandomChoice([\n",
        "            T.Resize((224,224), T.InterpolationMode.NEAREST),\n",
        "            T.Resize((224,224), T.InterpolationMode.BILINEAR),\n",
        "        ]),\n",
        "        T.Pad(16, fill=1.0),\n",
        "        T.RandomRotation(2, T.InterpolationMode.BILINEAR),\n",
        "        T.Pad(-12),\n",
        "        T.RandomChoice([\n",
        "            T.Lambda(lambda x: TF.gaussian_blur(x, 7, 2.55)),\n",
        "            T.Lambda(lambda x: TF.gaussian_blur(x, 5, 1.27)),\n",
        "            T.Lambda(lambda x: TF.gaussian_blur(x, 3, 0.64)),\n",
        "            T.Lambda(lambda x: x),\n",
        "        ]),\n",
        "        T.Lambda(lambda x: x + torch.rand(1,).item() * 0.2 - 0.1),\n",
        "        T.Lambda(lambda x: x * (torch.rand(1,).item() * 0.3 + 0.85)),\n",
        "        T.RandomCrop((224,224)),\n",
        "        T.Lambda(lambda x: x + torch.randn_like(x).mul(0.02)),\n",
        "        T.Normalize((0.48145466, 0.4578275, 0.40821073), (0.26862954, 0.26130258, 0.27577711)),\n",
        "])\n",
        "\n",
        "for i in range(500):\n",
        "    x = model.decode(clip_root)\n",
        "    x_color = x.tile(1,3,1,1)\n",
        "\n",
        "    with torch.no_grad(): #This is just preparing frames for the video. It stores them in ram, not gpu memory, so it shouldn't impact much.\n",
        "        x_color_big = TF.resize(x_color, (112,112), T.InterpolationMode.NEAREST)\n",
        "        x_color_big = F.interpolate(x_color_big, (224,224), mode='bicubic', align_corners=False)\n",
        "        if video_frames == None:\n",
        "            video_frames = (x_color_big.permute(0,2,3,1).clamp(0,1)*255).byte().cpu()\n",
        "        else:\n",
        "            video_frames = torch.cat([video_frames, (x_color_big.permute(0,2,3,1).clamp(0,1)*255).byte().cpu()])\n",
        "\n",
        "    x_aug = torch.cat([augments(x_color) for _ in range(16)])\n",
        "    x_enc = perceptor.encode_image(x_aug)\n",
        "    comparisons = 1.0 - torch.cosine_similarity(prompt, x_enc, -1)\n",
        "    loss  = torch.mean(comparisons)\n",
        "    loss += (x - torch.round(x*3).div(3)).pow(2).mean() * 0.25\n",
        "    loss += white_background_check(x).mul(2).pow(2) * 0.25\n",
        "    loss += laplacian_filter(x).mean().pow(4)\n",
        "    with torch.no_grad():\n",
        "        loss.backward()\n",
        "        # clip_root.grad = TF.gaussian_blur(clip_root.grad, 3) * 0.25 + clip_root.grad * 0.75\n",
        "        clip_root.grad /= clip_root.grad.norm().add(1e-8)\n",
        "        clip_optimizer.step()\n",
        "        clip_optimizer.zero_grad()\n",
        "        if i % 100 == 0:\n",
        "            print(i, loss.item())\n",
        "            display(ToImage(x.clamp(0,1)[0]).resize((224,224),0))\n",
        "\n",
        "x = model.decode(clip_root)\n",
        "display(ToImage(x.clamp(0,1)[0]).resize((224,224),0))"
      ],
      "execution_count": null,
      "outputs": [
        {
          "output_type": "stream",
          "name": "stdout",
          "text": [
            "0 0.8090600371360779\n"
          ]
        },
        {
          "output_type": "display_data",
          "data": {
            "image/png": "[encoded data removed]",
            "text/plain": [
              "<PIL.Image.Image image mode=L size=224x224 at 0x7F32A6E32050>"
            ]
          },
          "metadata": {}
        },
        {
          "output_type": "stream",
          "name": "stdout",
          "text": [
            "100 0.6680757999420166\n"
          ]
        },
        {
          "output_type": "display_data",
          "data": {
            "image/png": "[encoded data removed]",
            "text/plain": [
              "<PIL.Image.Image image mode=L size=224x224 at 0x7F32A6E38D10>"
            ]
          },
          "metadata": {}
        },
        {
          "output_type": "stream",
          "name": "stdout",
          "text": [
            "200 0.6427553296089172\n"
          ]
        },
        {
          "output_type": "display_data",
          "data": {
            "image/png": "[encoded data removed]",
            "text/plain": [
              "<PIL.Image.Image image mode=L size=224x224 at 0x7F32A6E32050>"
            ]
          },
          "metadata": {}
        }
      ]
    },
    {
      "cell_type": "markdown",
      "metadata": {
        "id": "kcZ3MaAri9PL"
      },
      "source": [
        "Write video of generation process"
      ]
    },
    {
      "cell_type": "code",
      "metadata": {
        "id": "pHByhFjc1V5R"
      },
      "source": [
        "torchvision.io.write_video(\"lr_100.mp4\", video_frames, fps=15, options={'crf': '30'})"
      ],
      "execution_count": null,
      "outputs": []
    }
  ]
}