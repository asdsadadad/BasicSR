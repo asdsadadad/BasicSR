{
  "nbformat": 4,
  "nbformat_minor": 0,
  "metadata": {
    "colab": {
      "name": "Sprite_Generator_v0_6_Breadsticks.ipynb",
      "provenance": [],
      "collapsed_sections": [
        "sEX3N-Qwhsjb",
        "6jEMkq_2hE6f",
        "Hd6_zISfh0HK",
        "WS1xG2mvh5jh",
        "87EmMx5Kh9P7",
        "HZ9KdWKxjhDs",
        "aU9A9IVjiE0a"
      ],
      "include_colab_link": true
    },
    "kernelspec": {
      "name": "python3",
      "display_name": "Python 3"
    },
    "language_info": {
      "name": "python"
    },
    "accelerator": "GPU"
  },
  "cells": [
    {
      "cell_type": "markdown",
      "metadata": {
        "id": "view-in-github",
        "colab_type": "text"
      },
      "source": [
        "<a href=\"https://colab.research.google.com/github/asdsadadad/BasicSR/blob/master/Sprite_Generator_v0_6_by_Hotgrits_on_EleutherAI_simplified__..ipynb\" target=\"_parent\"><img src=\"https://colab.research.google.com/assets/colab-badge.svg\" alt=\"Open In Colab\"/></a>"
      ]
    },
    {
      "cell_type": "markdown",
      "metadata": {
        "id": "EZCl4E-bGaw2"
      },
      "source": [
        "Check GPU (K80 is the slowest but even it doesn't take more than 2 minutes)"
      ]
    },
    {
      "cell_type": "code",
      "metadata": {
        "id": "v7K8s5Ddlzpy"
      },
      "source": [
        "!nvidia-smi"
      ],
      "execution_count": null,
      "outputs": []
    },
    {
      "cell_type": "markdown",
      "metadata": {
        "id": "sEX3N-Qwhsjb"
      },
      "source": [
        "## Run this (you only need to do this once per session)\n"
      ]
    },
    {
      "cell_type": "code",
      "metadata": {
        "id": "mYzQ_NNalzTm"
      },
      "source": [
        "!curl -L -o sprite_generator_v06_6.pt -C - 'https://cdn.discordapp.com/attachments/730484623028519072/867593206220718112/sprite_generator_v06_7-21-2021_7.pt'\n",
        "!pip -qq install torch_optimizer\n",
        "!pip -qq install av\n",
        "import torch\n",
        "import torch.nn as nn\n",
        "import torch.nn.functional as F\n",
        "import torchvision\n",
        "import torchvision.transforms as T\n",
        "import torchvision.transforms.functional as TF\n",
        "import torch_optimizer as optim\n",
        "import PIL\n",
        "from PIL import Image\n",
        "import random\n",
        "import math\n",
        "import gc\n",
        "\n",
        "device = torch.device(\"cuda\" if torch.cuda.is_available() else \"cpu\")\n",
        "torch.set_grad_enabled(False)\n",
        "\n",
        "def clear_mem():\n",
        "    torch.cuda.empty_cache()\n",
        "    gc.collect()\n",
        "\n",
        "ToTensor = T.ToTensor()\n",
        "ToImage  = T.ToPILImage()\n",
        "\n",
        "def OpenImage(x, resize=None, convert=\"RGB\"):\n",
        "    if resize:\n",
        "        return ToTensor(Image.open(x).convert(convert).resize(resize)).unsqueeze(0).to(device)\n",
        "    else:\n",
        "        return ToTensor(Image.open(x).convert(convert)).unsqueeze(0).to(device)\n",
        "\n",
        "def diff_abs(x, y=0.0001):\n",
        "    return torch.sqrt(x*x+y)\n",
        "\n",
        "def diff_relu(x, y=0.0001):\n",
        "    return (torch.sqrt(x*x+y)+x)*0.5\n",
        "\n",
        "def diff_clamp(x, y=0.0001):\n",
        "    return diff_relu(1-diff_relu(1-x, y), y)\n",
        "\n",
        "class PixelNet(torch.nn.Module):\n",
        "    def __init__(self):\n",
        "        super(PixelNet, self).__init__()\n",
        "\n",
        "        self.enc_layers_0 = nn.Sequential(\n",
        "                              nn.Conv2d( 1,  8, 2, 2, 0),\n",
        "                              nn.Conv2d( 8, 16, 2, 2, 0),\n",
        "                              nn.Conv2d(16, 32, 2, 2, 0),\n",
        "                        )\n",
        "\n",
        "        self.batchnorm = nn.InstanceNorm2d(32)\n",
        "\n",
        "        self.lin_layers = nn.Sequential(\n",
        "                              nn.Conv2d(32, 64, 3, 1, 1),\n",
        "                              nn.BatchNorm2d(64),\n",
        "                              nn.GELU(),\n",
        "                              nn.Conv2d(64, 64, 3, 1, 1),\n",
        "                              nn.BatchNorm2d(64),\n",
        "                              nn.GELU(),\n",
        "                              nn.Conv2d(64, 32, 3, 1, 1),\n",
        "                              nn.BatchNorm2d(32),\n",
        "                          )\n",
        "\n",
        "        self.cnn_layers = nn.Sequential(\n",
        "                              nn.Conv2d(32, 32, 3, 1, 1),      \n",
        "                              nn.ConvTranspose2d(32, 16, 2, 2),\n",
        "                              nn.Conv2d(16, 32, 3, 1, 1),      \n",
        "                              nn.BatchNorm2d(32),              \n",
        "                              nn.GELU(),                       \n",
        "                              nn.ConvTranspose2d(32, 16, 2, 2),\n",
        "                              nn.Conv2d(16, 32, 3, 1, 1),      \n",
        "                              nn.BatchNorm2d(32),              \n",
        "                              nn.GELU(),                       \n",
        "                              nn.ConvTranspose2d(32, 16, 2, 2),\n",
        "                              nn.Conv2d(16, 4, 3, 1, 1),       \n",
        "                          )\n",
        "\n",
        "        self.palette = torch.tensor([[0.0, 0.333, 0.667, 1.0]]).T.to(device)\n",
        "\n",
        "    def encode(self, x):\n",
        "        x = self.enc_layers_0(x)\n",
        "        return x\n",
        "\n",
        "    def decode(self, x, y=25, batchnorm=True, dropout_p=0):\n",
        "        if dropout_p == 0:\n",
        "            dropout = nn.Identity()\n",
        "        else:\n",
        "            dropout = nn.AlphaDropout(dropout_p)\n",
        "        if batchnorm == True:\n",
        "            x = self.batchnorm(x)\n",
        "        # x = self.lin_layers(x)\n",
        "        # x = self.cnn_layers(x)\n",
        "        x = self.lin_layers[:3](x)\n",
        "        x = dropout(x)\n",
        "        x = self.lin_layers[3:6](x)\n",
        "        x = self.lin_layers[6:](x)\n",
        "        x = dropout(x)\n",
        "        x = self.cnn_layers[0](x)\n",
        "        x = dropout(x)\n",
        "        x = self.cnn_layers[1:](x)\n",
        "        x = (x.permute(0,2,3,1).mul(y).softmax(-1) @ self.palette).permute(0,3,1,2)\n",
        "        return x\n",
        "\n",
        "    def forward(self, x, y=25):\n",
        "        x = self.encode(x)\n",
        "        x = self.decode(x, y)\n",
        "        return x\n",
        "\n",
        "model = PixelNet().to(device)\n",
        "\n",
        "# model(torch.rand(8,1,56,56).to(device)).shape\n",
        "\n",
        "model.load_state_dict(torch.load(\"/content/sprite_generator_v06_6.pt\"))\n",
        "model.eval();\n",
        "!pip install --no-deps git+https://github.com/openai/CLIP.git\n",
        "!pip install --no-deps ftfy regex tqdm\n",
        "\n",
        "import clip\n",
        "device = torch.device(\"cuda\" if torch.cuda.is_available() else \"cpu\")\n",
        "torch.set_grad_enabled(False)\n",
        "\n",
        "perceptor, preprocess = clip.load(\"ViT-B/32\", jit=False)\n",
        "perceptor.eval().float().requires_grad_(False);\n",
        "\n",
        "CLIP_Normalization = T.Normalize((0.48145466, 0.4578275, 0.40821073), (0.26862954, 0.26130258, 0.27577711))\n",
        "\n",
        "\n",
        "\n"
      ],
      "execution_count": null,
      "outputs": []
    },
    {
      "cell_type": "markdown",
      "metadata": {
        "id": "KJXtXU26DvyE"
      },
      "source": [
        "## Generate the image"
      ]
    },
    {
      "cell_type": "markdown",
      "metadata": {
        "id": "VSr_fENSD8Sc"
      },
      "source": [
        "Set the prompt"
      ]
    },
    {
      "cell_type": "code",
      "metadata": {
        "id": "efbhY8zgD8Dc"
      },
      "source": [
        "prompt = perceptor.encode_text(clip.tokenize([\"4chan\"]).to(device)).mean(0,True)"
      ],
      "execution_count": 7,
      "outputs": []
    },
    {
      "cell_type": "markdown",
      "metadata": {
        "id": "s0gzOyHbD7r8"
      },
      "source": [
        "Or use an image as a prompt instead"
      ]
    },
    {
      "cell_type": "code",
      "metadata": {
        "id": "AdzyVoWjD7ES"
      },
      "source": [
        "prompt_img = OpenImage(\"flickr_dog_000137.jpg\", (224,224)).tile(8,1,1,1)\n",
        "prompt_img += torch.randn_like(prompt_img) * 0.025\n",
        "prompt = perceptor.encode_image(CLIP_Normalization(prompt_img)).mean(0,True)"
      ],
      "execution_count": null,
      "outputs": []
    },
    {
      "cell_type": "markdown",
      "metadata": {
        "id": "6XkQiJb4Ekbl"
      },
      "source": [
        "Then press Play here to generate"
      ]
    },
    {
      "cell_type": "code",
      "metadata": {
        "id": "vKFR7EvHkN6-"
      },
      "source": [
        "# Vignettes for init images and masking noise\n",
        "vig = torch.cat(torch.meshgrid(2*[torch.linspace(-1,1,64)])).reshape(2,64,64).pow(2).sum(0,True).mul(2).sub(0).clamp(0,1).to(device)\n",
        "vig = TF.crop(vig, 0, 4, 56, 56).unsqueeze(0)\n",
        "vig_7x7 = torch.cat(torch.meshgrid(2*[torch.linspace(-1,1,9)])).reshape(2,9,9).pow(2).sum(0,True).mul(3).sub(1).clamp(0,1).to(device)\n",
        "vig_7x7 = 1 - TF.crop(vig_7x7, 0, 1, 7, 7)\n",
        "\n",
        "blank_image = model.encode(vig - torch.rand_like(vig) * 0.333)\n",
        "blank_image = model.batchnorm(blank_image) # The encoder's values are huge due to the batchnorm being in the decoder section, but for easier optimization batchnorm it first.\n",
        "clip_root = blank_image.clone().detach() + torch.randn((1,32,7,7)).to(device).mul(vig_7x7) * 0.25\n",
        "clip_root = clip_root.requires_grad_(True)\n",
        "clip_optimizer = optim.Yogi([clip_root], lr=1/8, weight_decay=0.00)\n",
        "\n",
        "video_frames = None\n",
        "\n",
        "torch.set_grad_enabled(True)\n",
        "model.eval()\n",
        "\n",
        "vig = torch.cat(torch.meshgrid(2*[torch.linspace(-1,1,64)])).reshape(2,64,64).pow(2).sum(0,True).mul(3).sub(1).clamp(0,1).pow(2).to(device)\n",
        "vig = TF.crop(vig, 0, 4, 56, 56)\n",
        "\n",
        "laplacian_kernel = torch.tensor([\n",
        "    [.05, .2, .05],\n",
        "    [ .2, -1, .2 ],\n",
        "    [.05, .2, .05]\n",
        "]).unsqueeze(0).unsqueeze(0).to(device)\n",
        "\n",
        "def laplacian_filter(x):\n",
        "    b, c, h, w = x.shape\n",
        "    x = x.reshape(b*c, 1, h, w)\n",
        "    x = F.pad(x, [2,2,2,2], mode='reflect')\n",
        "    x = F.conv2d(x, laplacian_kernel)\n",
        "    x = TF.pad(x, -1)\n",
        "    b2, c2, h2, w2 = x.shape\n",
        "    x = x.reshape(b, c, h2, w2)\n",
        "    return x\n",
        "\n",
        "def white_background_check(x):\n",
        "    x = 1 - x\n",
        "    x = x * vig\n",
        "    x_mean = x.mean()\n",
        "    x_std = x.std()\n",
        "    return x_mean + x_std\n",
        "\n",
        "def sneaky_round(x):\n",
        "    new_x = x\n",
        "    with torch.no_grad():\n",
        "      new_x[:] = x.mul(3).round().div(3)\n",
        "    return new_x\n",
        "\n",
        "augments = T.Compose([\n",
        "        T.RandomChoice([\n",
        "            T.Resize((224,224), T.InterpolationMode.NEAREST),\n",
        "            T.Resize((224,224), T.InterpolationMode.BILINEAR),\n",
        "            T.Resize((240,224), T.InterpolationMode.NEAREST),\n",
        "            T.Resize((240,224), T.InterpolationMode.BILINEAR),\n",
        "            T.Resize((256,224), T.InterpolationMode.NEAREST),\n",
        "            T.Resize((256,224), T.InterpolationMode.BILINEAR),\n",
        "            T.Resize((224,240), T.InterpolationMode.NEAREST),\n",
        "            T.Resize((224,240), T.InterpolationMode.BILINEAR),\n",
        "            T.Resize((224,256), T.InterpolationMode.NEAREST),\n",
        "            T.Resize((224,256), T.InterpolationMode.BILINEAR),\n",
        "        ]),\n",
        "        T.Pad(64, fill=1.0),\n",
        "        T.RandomRotation(15, T.InterpolationMode.BILINEAR),\n",
        "        T.Pad(-56),\n",
        "        T.RandomChoice([\n",
        "            T.Lambda(lambda x: TF.gaussian_blur(x, 7, 2.55)),\n",
        "            T.Lambda(lambda x: TF.gaussian_blur(x, 5, 1.27)),\n",
        "            T.Lambda(lambda x: TF.gaussian_blur(x, 3, 0.64)),\n",
        "            T.Lambda(lambda x: x),\n",
        "        ]),\n",
        "        T.Lambda(lambda x: x + torch.rand(1,).item() * 0.2 - 0.1),\n",
        "        T.Lambda(lambda x: x * (torch.rand(1,).item() * 0.3 + 0.85)),\n",
        "        T.RandomCrop((224,224)),\n",
        "        T.Lambda(lambda x: x + torch.randn_like(x).mul(0.02)),\n",
        "        T.Normalize((0.48145466, 0.4578275, 0.40821073), (0.26862954, 0.26130258, 0.27577711)),\n",
        "])\n",
        "\n",
        "gentle_augments = T.Compose([\n",
        "        T.RandomChoice([\n",
        "            T.Resize((224,224), T.InterpolationMode.NEAREST),\n",
        "            T.Resize((224,224), T.InterpolationMode.BILINEAR),\n",
        "        ]),\n",
        "        T.Pad(16, fill=1.0),\n",
        "        T.RandomRotation(2, T.InterpolationMode.BILINEAR),\n",
        "        T.Pad(-12),\n",
        "        T.RandomChoice([\n",
        "            T.Lambda(lambda x: TF.gaussian_blur(x, 7, 2.55)),\n",
        "            T.Lambda(lambda x: TF.gaussian_blur(x, 5, 1.27)),\n",
        "            T.Lambda(lambda x: TF.gaussian_blur(x, 3, 0.64)),\n",
        "            T.Lambda(lambda x: x),\n",
        "        ]),\n",
        "        T.Lambda(lambda x: x + torch.rand(1,).item() * 0.2 - 0.1),\n",
        "        T.Lambda(lambda x: x * (torch.rand(1,).item() * 0.3 + 0.85)),\n",
        "        T.RandomCrop((224,224)),\n",
        "        T.Lambda(lambda x: x + torch.randn_like(x).mul(0.02)),\n",
        "        T.Normalize((0.48145466, 0.4578275, 0.40821073), (0.26862954, 0.26130258, 0.27577711)),\n",
        "])\n",
        "\n",
        "for i in range(500):\n",
        "    x = model.decode(clip_root)\n",
        "    x_color = x.tile(1,3,1,1)\n",
        "\n",
        "    with torch.no_grad(): #This is just preparing frames for the video. It stores them in ram, not gpu memory, so it shouldn't impact much.\n",
        "        x_color_big = TF.resize(x_color, (112,112), T.InterpolationMode.NEAREST)\n",
        "        x_color_big = F.interpolate(x_color_big, (224,224), mode='bicubic', align_corners=False)\n",
        "        if video_frames == None:\n",
        "            video_frames = (x_color_big.permute(0,2,3,1).clamp(0,1)*255).byte().cpu()\n",
        "        else:\n",
        "            video_frames = torch.cat([video_frames, (x_color_big.permute(0,2,3,1).clamp(0,1)*255).byte().cpu()])\n",
        "\n",
        "    x_aug = torch.cat([augments(x_color) for _ in range(16)])\n",
        "    x_enc = perceptor.encode_image(x_aug)\n",
        "    comparisons = 1.0 - torch.cosine_similarity(prompt, x_enc, -1)\n",
        "    loss  = torch.mean(comparisons)\n",
        "    loss += (x - torch.round(x*3).div(3)).pow(2).mean() * 0.25\n",
        "    loss += white_background_check(x).mul(2).pow(2) * 0.25\n",
        "    loss += laplacian_filter(x).mean().pow(4)\n",
        "    with torch.no_grad():\n",
        "        loss.backward()\n",
        "        # clip_root.grad = TF.gaussian_blur(clip_root.grad, 3) * 0.25 + clip_root.grad * 0.75\n",
        "        clip_root.grad /= clip_root.grad.norm().add(1e-8)\n",
        "        clip_optimizer.step()\n",
        "        clip_optimizer.zero_grad()\n",
        "        if i % 100 == 0:\n",
        "            print(i, loss.item())\n",
        "            display(ToImage(x.clamp(0,1)[0]).resize((224,224),0))\n",
        "\n",
        "x = model.decode(clip_root)\n",
        "display(ToImage(x.clamp(0,1)[0]).resize((224,224),0))"
      ],
      "execution_count": null,
      "outputs": []
    },
    {
      "cell_type": "markdown",
      "metadata": {
        "id": "kcZ3MaAri9PL"
      },
      "source": [
        "Write video of generation process"
      ]
    },
    {
      "cell_type": "code",
      "metadata": {
        "id": "pHByhFjc1V5R"
      },
      "source": [
        "torchvision.io.write_video(\"lr_100.mp4\", video_frames, fps=15, options={'crf': '30'})"
      ],
      "execution_count": null,
      "outputs": []
    }
  ]
}